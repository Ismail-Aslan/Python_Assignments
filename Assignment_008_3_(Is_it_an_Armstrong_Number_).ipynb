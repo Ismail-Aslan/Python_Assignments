{
  "nbformat": 4,
  "nbformat_minor": 0,
  "metadata": {
    "colab": {
      "name": "Assignment-008/3 (Is it an Armstrong Number?).ipynb",
      "provenance": []
    },
    "kernelspec": {
      "name": "python3",
      "display_name": "Python 3"
    },
    "language_info": {
      "name": "python"
    }
  },
  "cells": [
    {
      "cell_type": "code",
      "metadata": {
        "colab": {
          "base_uri": "https://localhost:8080/"
        },
        "id": "qKqg2K9NXR2z",
        "outputId": "63ddae74-fb77-416a-c6f5-4d97446cdf13"
      },
      "source": [
        "number = input()\n",
        "sum = 0\n",
        "\n",
        "while not number.isdigit():\n",
        "  print(\"It is an invalid entry. Don't use non-numeric, float, or negative values!\")\n",
        "  number = input()\n",
        "\n",
        "for i in number:\n",
        "  sum += int(i) ** len(number)\n",
        "\n",
        "if number == str(sum):\n",
        "  print(number, \"is an Armstrong number\")\n",
        "else:\n",
        "  print(number, \"is not an Armstrong number\")"
      ],
      "execution_count": 2,
      "outputs": [
        {
          "output_type": "stream",
          "text": [
            "372\n",
            "372 is not an Armstrong number\n"
          ],
          "name": "stdout"
        }
      ]
    }
  ]
}