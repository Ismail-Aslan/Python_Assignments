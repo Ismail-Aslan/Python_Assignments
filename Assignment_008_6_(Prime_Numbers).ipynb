{
  "nbformat": 4,
  "nbformat_minor": 0,
  "metadata": {
    "colab": {
      "name": "Assignment-008/6 (Prime Numbers).ipynb",
      "provenance": [],
      "collapsed_sections": []
    },
    "kernelspec": {
      "name": "python3",
      "display_name": "Python 3"
    },
    "language_info": {
      "name": "python"
    }
  },
  "cells": [
    {
      "cell_type": "code",
      "metadata": {
        "id": "xcPAZx7x2g0i"
      },
      "source": [
        ""
      ],
      "execution_count": null,
      "outputs": []
    },
    {
      "cell_type": "markdown",
      "metadata": {
        "id": "yAIzCwXF2p5b"
      },
      "source": [
        ""
      ]
    },
    {
      "cell_type": "code",
      "metadata": {
        "colab": {
          "base_uri": "https://localhost:8080/"
        },
        "id": "mwHcYBC823-h",
        "outputId": "785f4523-efcc-4f3f-90be-c8774eebb396"
      },
      "source": [
        " n = int(input(\"Please enter a positive whole number bigger than 1 : \"))\n",
        " if n >= 2:\n",
        "  l={2,}\n",
        "  for x in range(2,n+1):\n",
        "    for y in range(2,x):\n",
        "      if x % y == 0:\n",
        "        if x in l:\n",
        "          l.remove(x)\n",
        "          break\n",
        "        else:\n",
        "          break\n",
        "      else:\n",
        "        l.add(x)\n",
        "  print(list(l))\n",
        "\n",
        "else:\n",
        "  print(\"You have entered an invalid number!\")"
      ],
      "execution_count": 2,
      "outputs": [
        {
          "output_type": "stream",
          "text": [
            "Please enter a positive whole number bigger than 1 : 100\n",
            "[2, 3, 5, 7, 11, 13, 17, 19, 23, 29, 31, 37, 41, 43, 47, 53, 59, 61, 67, 71, 73, 79, 83, 89, 97]\n"
          ],
          "name": "stdout"
        }
      ]
    },
    {
      "cell_type": "code",
      "metadata": {
        "id": "cGWBibUB2rub"
      },
      "source": [
        ""
      ],
      "execution_count": null,
      "outputs": []
    }
  ]
}