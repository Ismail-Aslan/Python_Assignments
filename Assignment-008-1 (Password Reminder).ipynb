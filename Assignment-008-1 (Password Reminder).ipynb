name = input("Please enter your first name :  ")
user = "ismail"
if name.title() == user.title():
  print(f"Hello, {name.title()}! The password is : W@12")
else :
  print(f"Hello, {name.title()}! See you later.")
