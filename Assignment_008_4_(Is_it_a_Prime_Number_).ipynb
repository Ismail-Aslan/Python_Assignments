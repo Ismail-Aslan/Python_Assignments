{
  "nbformat": 4,
  "nbformat_minor": 0,
  "metadata": {
    "colab": {
      "name": "Assignment-008/4 (Is it a Prime Number?).ipynb",
      "provenance": []
    },
    "kernelspec": {
      "name": "python3",
      "display_name": "Python 3"
    },
    "language_info": {
      "name": "python"
    }
  },
  "cells": [
    {
      "cell_type": "code",
      "metadata": {
        "colab": {
          "base_uri": "https://localhost:8080/"
        },
        "id": "qKqg2K9NXR2z",
        "outputId": "091ce2ec-768c-4bd7-f3f3-8fbc92f783a2"
      },
      "source": [
        "nmb = int(input(\"Please enter a number : \"))\n",
        "if nmb > 1:\n",
        "  for i in range(2,nmb):\n",
        "    if nmb % i == 0:\n",
        "      print(nmb, \"is not a prime number.\")\n",
        "      break\n",
        "  else:\n",
        "    print(nmb, \"is a prime number.\")\n",
        "else:\n",
        "  print(nmb, \"is not a prime number.\")"
      ],
      "execution_count": 4,
      "outputs": [
        {
          "output_type": "stream",
          "text": [
            "Please enter a number : 2\n",
            "2 is a prime number.\n"
          ],
          "name": "stdout"
        }
      ]
    }
  ]
}