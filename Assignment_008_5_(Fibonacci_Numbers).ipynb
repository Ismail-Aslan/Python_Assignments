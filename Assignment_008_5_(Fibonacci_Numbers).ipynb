{
  "nbformat": 4,
  "nbformat_minor": 0,
  "metadata": {
    "colab": {
      "name": "Assignment-008/5 (Fibonacci Numbers).ipynb",
      "provenance": [],
      "collapsed_sections": []
    },
    "kernelspec": {
      "name": "python3",
      "display_name": "Python 3"
    },
    "language_info": {
      "name": "python"
    }
  },
  "cells": [
    {
      "cell_type": "code",
      "metadata": {
        "colab": {
          "base_uri": "https://localhost:8080/"
        },
        "id": "qKqg2K9NXR2z",
        "outputId": "3e8061e2-dca2-44f9-f8c2-3ae4083e0d61"
      },
      "source": [
        "def fibonacci():\n",
        "    fib= [0,1]\n",
        "    i = 1\n",
        "    z = 2\n",
        "    while i < 55:\n",
        "        i = fib[z-2] + fib[z-1]\n",
        "        z +=1\n",
        "        fib.append(i)\n",
        "    fib.pop(0)\n",
        "    print(fib)\n",
        "fibonacci()"
      ],
      "execution_count": null,
      "outputs": [
        {
          "output_type": "stream",
          "text": [
            "[1, 1, 2, 3, 5, 8, 13, 21, 34, 55]\n"
          ],
          "name": "stdout"
        }
      ]
    }
  ]
}