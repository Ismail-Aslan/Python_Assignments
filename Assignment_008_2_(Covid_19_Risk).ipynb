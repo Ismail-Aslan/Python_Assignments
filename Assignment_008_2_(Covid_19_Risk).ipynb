{
  "nbformat": 4,
  "nbformat_minor": 0,
  "metadata": {
    "colab": {
      "name": "Assignment-008/2 (Covid-19 Risk).ipynb",
      "provenance": [],
      "collapsed_sections": []
    },
    "kernelspec": {
      "name": "python3",
      "display_name": "Python 3"
    },
    "language_info": {
      "name": "python"
    }
  },
  "cells": [
    {
      "cell_type": "code",
      "metadata": {
        "colab": {
          "base_uri": "https://localhost:8080/"
        },
        "id": "BbD6oK0iSiDA",
        "outputId": "dcf9944f-eac3-495b-9d1d-6da0256dc598"
      },
      "source": [
        "age = (input(\"Are you a cigarette addict older than 75 years old?(yes/no)    :\").lower() == \"yes\")\n",
        "\n",
        "chronic = (input(\"Do you have a severe chronic disease?(yes/no)    :\").lower() == \"yes\")\n",
        "\n",
        "immune = (input(\"Is your immune system too weak?(yes/no)    :\").lower() == \"yes\")\n",
        "\n",
        "risk = age or chronic or immune\n",
        "\n",
        "if risk:\n",
        "  print (\"You are in risky group\")\n",
        "\n",
        "else:\n",
        "  print(\"You are not in risky group\")"
      ],
      "execution_count": 1,
      "outputs": [
        {
          "output_type": "stream",
          "text": [
            "Are you a cigarette addict older than 75 years old?(yes/no)    :Yes\n",
            "Do you have a severe chronic disease?(yes/no)    :yes\n",
            "Is your immune system too weak?(yes/no)    :YES\n",
            "You are in risky group\n"
          ],
          "name": "stdout"
        }
      ]
    }
  ]
}