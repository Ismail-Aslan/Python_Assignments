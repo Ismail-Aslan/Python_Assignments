{
 "metadata": {
  "language_info": {
   "codemirror_mode": {
    "name": "ipython",
    "version": 3
   },
   "file_extension": ".py",
   "mimetype": "text/x-python",
   "name": "python",
   "nbconvert_exporter": "python",
   "pygments_lexer": "ipython3",
   "version": "3.9.5"
  },
  "orig_nbformat": 2,
  "kernelspec": {
   "name": "python395jvsc74a57bd0b61a544ff4ad338ef046539e9c655dc071d667708243a0322ba326c69b4495d1",
   "display_name": "Python 3.9.5 64-bit"
  },
  "metadata": {
   "interpreter": {
    "hash": "b61a544ff4ad338ef046539e9c655dc071d667708243a0322ba326c69b4495d1"
   }
  }
 },
 "nbformat": 4,
 "nbformat_minor": 2,
 "cells": [
  {
   "cell_type": "code",
   "execution_count": 3,
   "metadata": {},
   "outputs": [
    {
     "output_type": "stream",
     "name": "stdout",
     "text": [
      "{'r': 1, 't': 1, '!': 1, 's': 2, 'o': 2, 'h': 1, ' ': 3, 'i': 1, 'n': 1, 'p': 2, 'u': 2}\n"
     ]
    }
   ],
   "source": [
    "sentence = input()\n",
    "\n",
    "x = set(sentence)\n",
    "y = list(map(sentence.count,x))\n",
    "\n",
    "print(dict(zip(x,y)))"
   ]
  },
  {
   "cell_type": "code",
   "execution_count": null,
   "metadata": {},
   "outputs": [],
   "source": []
  }
 ]
}